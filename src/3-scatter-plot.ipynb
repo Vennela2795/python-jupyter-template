{
 "cells": [
  {
   "cell_type": "markdown",
   "metadata": {},
   "source": [
    "### Exercise 3: Scatter Plot with Annotations"
   ]
  },
  {
   "cell_type": "code",
   "execution_count": null,
   "metadata": {},
   "outputs": [],
   "source": [
    "# TASK: Create a scatter plot with x = [1, 2, 3, 4, 5] and y = [2, 4, 6, 8, 10].\n",
    "# Annotate each point with its (x, y) value, and set the title as 'Scatter Plot with Annotations'.\n",
    "import matplotlib.pyplot as plt\n",
    "\n",
    "x = [1, 2, 3, 4, 5]\n",
    "y = [2, 4, 6, 8, 10]\n",
    "\n",
    "plt.scatter(x, y)\n",
    "\n",
    "for xi, yi in zip(x, y):\n",
    "    plt.text(xi, yi, f\"({xi}, {yi})\", ha='left', va='bottom')\n",
    "\n",
    "        plt.title('Scatter Plot with Annotations')\n",
    "            plt.show()\n",
    "                "
   ]
  }
 ],
 "metadata": {
  "language_info": {
   "name": "python"
  }
 },
 "nbformat": 4,
 "nbformat_minor": 2
}
