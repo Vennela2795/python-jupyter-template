{
 "cells": [
  {
   "cell_type": "markdown",
   "metadata": {},
   "source": [
    "### Exercise 5: Subplot Layout"
   ]
  },
  {
   "cell_type": "code",
   "execution_count": null,
   "metadata": {},
   "outputs": [],
   "source": [
    " Bar Chart\n",
    " categories = ['A', 'B', 'C', 'D']\n",
    " values = [5, 7, 3, 9]\n",
    " axs[0, 1].bar(categories, values, color=['red', 'green', 'blue', 'purple'])\n",
    " axs[0, 1].set_title('Bar Chart')\n",
    "\n",
    " # Scatter Plot\n",
    " x_scatter = [1, 2, 3, 4, 5]\n",
    " y_scatter = [2, 4, 6, 8, 10]\n",
    " axs[1, 0].scatter(x_scatter, y_scatter)\n",
    " axs[1, 0].set_title('Scatter Plot')\n",
    "\n",
    " # Pie Chart\n",
    " labels = ['Python', 'Java', 'C++', 'JavaScript']\n",
    " sizes = [40, 25, 20, 15]\n",
    " axs[1, 1].pie(sizes, labels=labels, autopct='%1.1f%%')\n",
    " axs[1, 1].set_title('Pie Chart')\n",
    "\n",
    " plt.tight_layout()\n",
    " plt.show()\n"
   ]
  }
 ],
 "metadata": {
  "language_info": {
   "name": "python"
  }
 },
 "nbformat": 4,
 "nbformat_minor": 2
}
